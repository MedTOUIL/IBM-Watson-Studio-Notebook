{
    "cells": [
        {
            "cell_type": "markdown",
            "metadata": {},
            "source": "# Testing IBM Watson studio jupyter notebook"
        },
        {
            "cell_type": "code",
            "execution_count": 1,
            "metadata": {},
            "outputs": [
                {
                    "data": {
                        "text/html": "<div>\n<style scoped>\n    .dataframe tbody tr th:only-of-type {\n        vertical-align: middle;\n    }\n\n    .dataframe tbody tr th {\n        vertical-align: top;\n    }\n\n    .dataframe thead th {\n        text-align: right;\n    }\n</style>\n<table border=\"1\" class=\"dataframe\">\n  <thead>\n    <tr style=\"text-align: right;\">\n      <th></th>\n      <th>Monthly and annual temperature from 5 sources</th>\n      <th>Unnamed: 1</th>\n      <th>Unnamed: 2</th>\n      <th>Unnamed: 3</th>\n      <th>Unnamed: 4</th>\n      <th>Unnamed: 5</th>\n      <th>Unnamed: 6</th>\n      <th>Unnamed: 7</th>\n      <th>Unnamed: 8</th>\n      <th>Unnamed: 9</th>\n      <th>...</th>\n      <th>Unnamed: 29</th>\n      <th>Unnamed: 30</th>\n      <th>Unnamed: 31</th>\n      <th>Unnamed: 32</th>\n      <th>Unnamed: 33</th>\n      <th>Unnamed: 34</th>\n      <th>Unnamed: 35</th>\n      <th>Unnamed: 36</th>\n      <th>Unnamed: 37</th>\n      <th>Unnamed: 38</th>\n    </tr>\n  </thead>\n  <tbody>\n    <tr>\n      <th>0</th>\n      <td>CRU</td>\n      <td>Source</td>\n      <td>http://www.cru.uea.ac.uk/cru/data/temperature/</td>\n      <td>NaN</td>\n      <td>NaN</td>\n      <td>NaN</td>\n      <td>NaN</td>\n      <td>NaN</td>\n      <td>NaN</td>\n      <td>NaN</td>\n      <td>...</td>\n      <td>NaN</td>\n      <td>NaN</td>\n      <td>NaN</td>\n      <td>NaN</td>\n      <td>NaN</td>\n      <td>NaN</td>\n      <td>NaN</td>\n      <td>NaN</td>\n      <td>NaN</td>\n      <td>NaN</td>\n    </tr>\n    <tr>\n      <th>1</th>\n      <td>NaN</td>\n      <td>References</td>\n      <td>P. Brohan</td>\n      <td>J.J. Kennedy</td>\n      <td>I. Harris</td>\n      <td>S.F.B. Tett and P.D. Jones</td>\n      <td>Uncertainty estimates in regional and global ...</td>\n      <td>111</td>\n      <td>D12106</td>\n      <td>doi:10.1029/2005JD006548. (Copyright 2006 AGU...</td>\n      <td>...</td>\n      <td>NaN</td>\n      <td>NaN</td>\n      <td>NaN</td>\n      <td>NaN</td>\n      <td>NaN</td>\n      <td>NaN</td>\n      <td>NaN</td>\n      <td>NaN</td>\n      <td>NaN</td>\n      <td>NaN</td>\n    </tr>\n    <tr>\n      <th>2</th>\n      <td>GISS</td>\n      <td>Source</td>\n      <td>http://data.giss.nasa.gov/gistemp/</td>\n      <td>NaN</td>\n      <td>NaN</td>\n      <td>NaN</td>\n      <td>NaN</td>\n      <td>NaN</td>\n      <td>NaN</td>\n      <td>NaN</td>\n      <td>...</td>\n      <td>NaN</td>\n      <td>NaN</td>\n      <td>NaN</td>\n      <td>NaN</td>\n      <td>NaN</td>\n      <td>NaN</td>\n      <td>NaN</td>\n      <td>NaN</td>\n      <td>NaN</td>\n      <td>NaN</td>\n    </tr>\n    <tr>\n      <th>3</th>\n      <td>NaN</td>\n      <td>References</td>\n      <td>Hansen J. Mki. Sato R. Ruedy K. Lo D.W. Lea an...</td>\n      <td>NaN</td>\n      <td>NaN</td>\n      <td>NaN</td>\n      <td>NaN</td>\n      <td>NaN</td>\n      <td>NaN</td>\n      <td>NaN</td>\n      <td>...</td>\n      <td>NaN</td>\n      <td>NaN</td>\n      <td>NaN</td>\n      <td>NaN</td>\n      <td>NaN</td>\n      <td>NaN</td>\n      <td>NaN</td>\n      <td>NaN</td>\n      <td>NaN</td>\n      <td>NaN</td>\n    </tr>\n    <tr>\n      <th>4</th>\n      <td>NCDC</td>\n      <td>Source</td>\n      <td>http://www.ncdc.noaa.gov/cmb-faq/anomalies.php</td>\n      <td>NaN</td>\n      <td>NaN</td>\n      <td>NaN</td>\n      <td>NaN</td>\n      <td>NaN</td>\n      <td>NaN</td>\n      <td>NaN</td>\n      <td>...</td>\n      <td>NaN</td>\n      <td>NaN</td>\n      <td>NaN</td>\n      <td>NaN</td>\n      <td>NaN</td>\n      <td>NaN</td>\n      <td>NaN</td>\n      <td>NaN</td>\n      <td>NaN</td>\n      <td>NaN</td>\n    </tr>\n  </tbody>\n</table>\n<p>5 rows \u00d7 39 columns</p>\n</div>",
                        "text/plain": "  Monthly and annual temperature from 5 sources  Unnamed: 1  \\\n0                                           CRU      Source   \n1                                           NaN  References   \n2                                          GISS      Source   \n3                                           NaN  References   \n4                                          NCDC      Source   \n\n                                          Unnamed: 2     Unnamed: 3  \\\n0     http://www.cru.uea.ac.uk/cru/data/temperature/            NaN   \n1                                          P. Brohan   J.J. Kennedy   \n2                 http://data.giss.nasa.gov/gistemp/            NaN   \n3  Hansen J. Mki. Sato R. Ruedy K. Lo D.W. Lea an...            NaN   \n4     http://www.ncdc.noaa.gov/cmb-faq/anomalies.php            NaN   \n\n   Unnamed: 4                   Unnamed: 5  \\\n0         NaN                          NaN   \n1   I. Harris   S.F.B. Tett and P.D. Jones   \n2         NaN                          NaN   \n3         NaN                          NaN   \n4         NaN                          NaN   \n\n                                          Unnamed: 6 Unnamed: 7 Unnamed: 8  \\\n0                                                NaN        NaN        NaN   \n1   Uncertainty estimates in regional and global ...        111     D12106   \n2                                                NaN        NaN        NaN   \n3                                                NaN        NaN        NaN   \n4                                                NaN        NaN        NaN   \n\n                                          Unnamed: 9  ... Unnamed: 29  \\\n0                                                NaN  ...         NaN   \n1   doi:10.1029/2005JD006548. (Copyright 2006 AGU...  ...         NaN   \n2                                                NaN  ...         NaN   \n3                                                NaN  ...         NaN   \n4                                                NaN  ...         NaN   \n\n  Unnamed: 30 Unnamed: 31 Unnamed: 32 Unnamed: 33 Unnamed: 34 Unnamed: 35  \\\n0         NaN         NaN         NaN         NaN         NaN         NaN   \n1         NaN         NaN         NaN         NaN         NaN         NaN   \n2         NaN         NaN         NaN         NaN         NaN         NaN   \n3         NaN         NaN         NaN         NaN         NaN         NaN   \n4         NaN         NaN         NaN         NaN         NaN         NaN   \n\n  Unnamed: 36 Unnamed: 37 Unnamed: 38  \n0         NaN         NaN         NaN  \n1         NaN         NaN         NaN  \n2         NaN         NaN         NaN  \n3         NaN         NaN         NaN  \n4         NaN         NaN         NaN  \n\n[5 rows x 39 columns]"
                    },
                    "execution_count": 1,
                    "metadata": {},
                    "output_type": "execute_result"
                }
            ],
            "source": "# The code was removed by Watson Studio for sharing."
        },
        {
            "cell_type": "code",
            "execution_count": null,
            "metadata": {},
            "outputs": [],
            "source": ""
        }
    ],
    "metadata": {
        "kernelspec": {
            "display_name": "Python 3.9",
            "language": "python",
            "name": "python3"
        },
        "language_info": {
            "codemirror_mode": {
                "name": "ipython",
                "version": 3
            },
            "file_extension": ".py",
            "mimetype": "text/x-python",
            "name": "python",
            "nbconvert_exporter": "python",
            "pygments_lexer": "ipython3",
            "version": "3.9.12"
        }
    },
    "nbformat": 4,
    "nbformat_minor": 1
}